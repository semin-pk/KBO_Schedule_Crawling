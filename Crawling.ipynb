{
 "cells": [
  {
   "cell_type": "code",
   "execution_count": 6,
   "metadata": {},
   "outputs": [
    {
     "name": "stdout",
     "output_type": "stream",
     "text": [
      "{'4.8. (월) 오늘': [None], '4.9. (화)': [['18:30', 'KT', 'NC'], ['18:30', '한화', '두산'], ['18:30', 'LG', 'KIA'], ['18:30', '삼성', '롯데'], ['18:30', '키움', 'SSG']], '4.10. (수)': [['14:00', '한화', '두산'], ['14:00', 'LG', 'KIA'], ['14:00', '삼성', '롯데'], ['14:00', '키움', 'SSG'], ['14:00', 'KT', 'NC']], '4.11. (목)': [['18:30', '한화', '두산'], ['18:30', '삼성', '롯데'], ['18:30', 'LG', 'KIA'], ['18:30', '키움', 'SSG'], ['18:30', 'KT', 'NC']], '4.12. (금)': [['18:30', 'LG', '두산'], ['18:30', 'NC', '삼성'], ['18:30', 'KIA', '한화'], ['18:30', '롯데', '키움'], ['18:30', 'SSG', 'KT']], '4.13. (토)': [['14:00', 'KIA', '한화'], ['17:00', 'LG', '두산'], ['17:00', 'SSG', 'KT'], ['17:00', '롯데', '키움'], ['17:00', 'NC', '삼성']]}\n"
     ]
    }
   ],
   "source": [
    "from selenium import webdriver\n",
    "from selenium.webdriver.common.by import By\n",
    "import time\n",
    "from bs4 import BeautifulSoup\n",
    "driver = webdriver.Chrome()\n",
    "driver.implicitly_wait(15)\n",
    "# 네이버 검색: 프로 야구 경기 일정(당일 경기 일정이 나옴)\n",
    "driver.get('https://search.naver.com/search.naver?where=nexearch&sm=top_hty&fbm=0&ie=utf8&query=%ED%94%84%EB%A1%9C%EC%95%BC%EA%B5%AC%EA%B2%BD%EA%B8%B0')\n",
    "soup = BeautifulSoup(driver.page_source, 'html.parser')\n",
    "table = []\n",
    "dic ={}\n",
    "#당일로부터 5일 뒤까지 경기 일정 dic에 저장(총 6일)\n",
    "for i in range(6):\n",
    "    if i > 0:\n",
    "        driver.find_element(By.XPATH, value='//*[@id=\"main_pack\"]/section[1]/div/div[2]/div[2]/div[1]/a[2]/img').click()\n",
    "        soup = BeautifulSoup(driver.page_source, 'html.parser')\n",
    "    gamedate = soup.select('div.nv_date > strong')\n",
    "    lteamlist = soup.select('td.l_team > span > a')\n",
    "    rteamlist = soup.select('td.r_team > span > a')\n",
    "    timelist = soup.select('td.time > div > span')\n",
    "    #해당 날짜에 경기가 있을때\n",
    "    if lteamlist:\n",
    "        for i in range(len(timelist)):\n",
    "            table.append([timelist[i].getText(), lteamlist[i].getText(), rteamlist[i].getText()])\n",
    "        dic[gamedate[0].getText()] = table\n",
    "    #경기가 없을 때\n",
    "    else:\n",
    "        dic[gamedate[0].getText()] = [None]\n",
    "    table = []\n",
    "print(dic)"
   ]
  },
  {
   "cell_type": "code",
   "execution_count": null,
   "metadata": {},
   "outputs": [],
   "source": []
  }
 ],
 "metadata": {
  "kernelspec": {
   "display_name": "base",
   "language": "python",
   "name": "python3"
  },
  "language_info": {
   "codemirror_mode": {
    "name": "ipython",
    "version": 3
   },
   "file_extension": ".py",
   "mimetype": "text/x-python",
   "name": "python",
   "nbconvert_exporter": "python",
   "pygments_lexer": "ipython3",
   "version": "3.11.5"
  }
 },
 "nbformat": 4,
 "nbformat_minor": 2
}
